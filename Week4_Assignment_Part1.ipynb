{
    "cells": [
        {
            "cell_type": "markdown",
            "metadata": {},
            "source": "# Introduction/Business Problem"
        },
        {
            "cell_type": "markdown",
            "metadata": {
                "collapsed": true
            },
            "source": "My client is planning to start a coffee shop business in Downtown Toronto. Prior to opening a coffee shop, choosing a location is one of the important tasks to success. A promising chosen location provides owner with a stable traffic of customers and profits. Convenience and visibility matters a lot. Few people is willing to walk more than thirty minutes for a cup of coffee or some light refreshments. The new coffee shop should be convenient and visible for target customers. A location is good for people to have a breakfast or grab a cup of coffee on the way to work or to school. So, it is important to survey what facilities, buildings, shopping centre and the land use nearby the new coffee shop. In a traffic interchange with train station and bus stop, there is a huge of passenger traffic. However, almost there are existing coffee shops. The same type of coffee shops will share the market. They are direct competitors to the new coffee shop. It is advantageous to analyse how many coffee shops, restaurants, supermarkets are located in the surrounding.\n\nMy client want to know where the right location is for their new coffee shop in Downtown Toronto."
        }
    ],
    "metadata": {
        "kernelspec": {
            "display_name": "Python 3.6",
            "language": "python",
            "name": "python3"
        },
        "language_info": {
            "codemirror_mode": {
                "name": "ipython",
                "version": 3
            },
            "file_extension": ".py",
            "mimetype": "text/x-python",
            "name": "python",
            "nbconvert_exporter": "python",
            "pygments_lexer": "ipython3",
            "version": "3.6.9"
        }
    },
    "nbformat": 4,
    "nbformat_minor": 1
}